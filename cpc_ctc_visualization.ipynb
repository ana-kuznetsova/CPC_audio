{
 "cells": [
  {
   "cell_type": "code",
   "execution_count": 1,
   "metadata": {},
   "outputs": [],
   "source": [
    "%matplotlib inline"
   ]
  },
  {
   "cell_type": "code",
   "execution_count": 2,
   "metadata": {},
   "outputs": [],
   "source": [
    "import argparse\n",
    "import os\n",
    "import sys\n",
    "\n",
    "import matplotlib.pyplot as plt\n",
    "import numpy as np\n",
    "\n",
    "import cpc.feature_loader as fl\n",
    "import cpc.train as tr\n",
    "from cpc.dataset import AudioBatchData, findAllSeqs, filterSeqs, parseSeqLabels"
   ]
  },
  {
   "cell_type": "code",
   "execution_count": 3,
   "metadata": {},
   "outputs": [],
   "source": [
    "sys.path.append(os.path.dirname(tr.__file__))"
   ]
  },
  {
   "cell_type": "code",
   "execution_count": 4,
   "metadata": {},
   "outputs": [],
   "source": [
    "CP = '/pio/scratch/2/jch/wav2vec/runs/cpc_base/ls100_cpcctc_match12_pred8/checkpoint_199.pt'"
   ]
  },
  {
   "cell_type": "code",
   "execution_count": 5,
   "metadata": {},
   "outputs": [
    {
     "name": "stdout",
     "output_type": "stream",
     "text": [
      "Loaded from cache /pio/data/zerospeech2021/LibriSpeech-wav/train-clean-100/_seqs_cache.txt successfully\n"
     ]
    },
    {
     "name": "stderr",
     "output_type": "stream",
     "text": [
      "10it [00:00, 72440.48it/s]"
     ]
    },
    {
     "name": "stdout",
     "output_type": "stream",
     "text": [
      "Checking length...\n",
      "Done, elapsed: 0.023 seconds\n",
      "Scanned 10 sequences in 0.02 seconds\n",
      "1 chunks computed\n"
     ]
    },
    {
     "name": "stderr",
     "output_type": "stream",
     "text": [
      "\n"
     ]
    },
    {
     "name": "stdout",
     "output_type": "stream",
     "text": [
      "Joining pool\n",
      "Joined process, elapsed=1.850 secs\n",
      "Loading checkpoint /pio/scratch/2/jch/wav2vec/runs/cpc_base/ls100_cpcctc_match12_pred8/checkpoint_199.pt\n",
      "Loading the state dict at /pio/scratch/2/jch/wav2vec/runs/cpc_base/ls100_cpcctc_match12_pred8/checkpoint_199.pt\n",
      "!!!!!!!!!USING CPCCTC!!!!!!!!!!!!\n"
     ]
    }
   ],
   "source": [
    "cdata = fl.getCheckpointData(os.path.dirname(CP))\n",
    "_, _, args = cdata\n",
    "args.pathDB = '/pio/data/zerospeech2021/LibriSpeech-wav/train-clean-100'\n",
    "args.pathTrain = '/pio/scratch/2/jch/wav2vec/LibriSpeech100_labels_split/train_split.txt'\n",
    "args.pathVal = '/pio/scratch/2/jch/wav2vec/LibriSpeech100_labels_split/test_split.txt'\n",
    "args.pathPhone = '/pio/scratch/2/jch/wav2vec/LibriSpeech100_labels_split/converted_aligned_phones.txt'\n",
    "args.size_window = 20480\n",
    "\n",
    "seqNames, speakers = findAllSeqs(args.pathDB,\n",
    "                                 extension=args.file_extension,\n",
    "                                 loadCache=not args.ignore_cache)\n",
    "phone_labels, n_phones = parseSeqLabels(args.pathPhone)\n",
    "\n",
    "seq_val = filterSeqs(args.pathVal, seqNames)[:10]\n",
    "db_val = AudioBatchData(args.pathDB, args.size_window, seq_val,\n",
    "                        phone_labels, len(speakers))\n",
    "\n",
    "model, args.hiddenGar, args.hiddenEncoder = fl.loadModel([CP])\n",
    "assert args.speakerEmbedding == 0\n",
    "criterion = tr.loadCriterion(CP, model.gEncoder.DOWNSAMPLING, len(speakers), None)"
   ]
  },
  {
   "cell_type": "code",
   "execution_count": 6,
   "metadata": {},
   "outputs": [],
   "source": [
    "model.cpu()\n",
    "criterion.cpu()\n",
    "val_loader = db_val.getDataLoader(1, 'sequential', False, numWorkers=0)"
   ]
  },
  {
   "cell_type": "code",
   "execution_count": 7,
   "metadata": {},
   "outputs": [],
   "source": [
    "data_iter = iter(val_loader)"
   ]
  },
  {
   "cell_type": "code",
   "execution_count": 8,
   "metadata": {},
   "outputs": [],
   "source": [
    "batch_data, label = next(data_iter)\n",
    "c_feature, encoded_data, _ = model(batch_data, None)\n",
    "\n",
    "# cFeature: after the autoregressive model\n",
    "# encoded_data: output of the encoder\n",
    "\n",
    "losses, outAcc, crit_locals = criterion(c_feature, encoded_data, label, return_locals=True)"
   ]
  },
  {
   "cell_type": "code",
   "execution_count": 9,
   "metadata": {},
   "outputs": [
    {
     "data": {
      "text/plain": [
       "torch.Size([116, 12, 8])"
      ]
     },
     "execution_count": 9,
     "metadata": {},
     "output_type": "execute_result"
    }
   ],
   "source": [
    "crit_locals['log_scores'].shape"
   ]
  },
  {
   "cell_type": "code",
   "execution_count": 11,
   "metadata": {},
   "outputs": [
    {
     "data": {
      "text/plain": [
       "torch.Size([116, 12, 8])"
      ]
     },
     "execution_count": 11,
     "metadata": {},
     "output_type": "execute_result"
    }
   ],
   "source": [
    "crit_locals['log_scores'].shape"
   ]
  },
  {
   "cell_type": "code",
   "execution_count": 10,
   "metadata": {},
   "outputs": [
    {
     "name": "stdout",
     "output_type": "stream",
     "text": [
      "tensor([ 2,  2,  2,  2,  2,  2,  2,  2,  2, 31, 31, 31])\n"
     ]
    },
    {
     "data": {
      "text/plain": [
       "<matplotlib.colorbar.Colorbar at 0x7fa7707930d0>"
      ]
     },
     "execution_count": 10,
     "metadata": {},
     "output_type": "execute_result"
    },
    {
     "data": {
      "image/png": "[encoded data removed]",
      "text/plain": [
       "<Figure size 432x288 with 2 Axes>"
      ]
     },
     "metadata": {
      "needs_background": "light"
     },
     "output_type": "display_data"
    }
   ],
   "source": [
    "O = \n",
    "print(label[0, O:O + args.CPCCTCNumMatched])\n",
    "plt.imshow(crit_locals['log_scores'][O].detach().numpy())\n",
    "plt.scatter(crit_locals['aligns'][O, :], np.arange(args.CPCCTCNumMatched))\n",
    "plt.colorbar()"
   ]
  },
  {
   "cell_type": "code",
   "execution_count": null,
   "metadata": {},
   "outputs": [],
   "source": []
  },
  {
   "cell_type": "code",
   "execution_count": null,
   "metadata": {},
   "outputs": [],
   "source": []
  }
 ],
 "metadata": {
  "kernelspec": {
   "display_name": "Python 3",
   "language": "python",
   "name": "python3"
  },
  "language_info": {
   "codemirror_mode": {
    "name": "ipython",
    "version": 3
   },
   "file_extension": ".py",
   "mimetype": "text/x-python",
   "name": "python",
   "nbconvert_exporter": "python",
   "pygments_lexer": "ipython3",
   "version": "3.7.8"
  }
 },
 "nbformat": 4,
 "nbformat_minor": 4
}
